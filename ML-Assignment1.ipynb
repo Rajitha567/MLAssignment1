{
 "cells": [
  {
   "cell_type": "code",
   "execution_count": 2,
   "id": "3d62dc42",
   "metadata": {},
   "outputs": [
    {
     "name": "stdout",
     "output_type": "stream",
     "text": [
      "sorted ages: [19, 19, 20, 22, 24, 24, 24, 25, 25, 26]\n",
      "Minimum age: 19\n",
      "Maximum age: 26\n",
      "Added min & max values again: [19, 19, 20, 22, 24, 24, 24, 25, 25, 26, 19, 26]\n",
      "median age: 24.0\n",
      "average age: 22.75\n",
      "range of the ages: 7\n"
     ]
    }
   ],
   "source": [
    "ages = [19, 22, 19, 24, 20, 25, 26, 24, 25, 24]\n",
    "# sorts age list\n",
    "ages.sort()\n",
    "print(\"sorted ages:\", ages)\n",
    "# minimum age\n",
    "x=min(ages)\n",
    "print(\"Minimum age:\", x)\n",
    "# maximum age\n",
    "y=max(ages)\n",
    "print(\"Maximum age:\", y)\n",
    "# add min & max values again\n",
    "ages.append(min(ages))\n",
    "ages.append(max(ages))\n",
    "print(\"Added min & max values again:\", ages)\n",
    "#using statistics library to find median\n",
    "import statistics\n",
    "print(\"median age:\", statistics.median(ages))\n",
    "# Average age\n",
    "avg=sum(ages)/len(ages)\n",
    "print(\"average age:\", avg)\n",
    "#range of the ages\n",
    "rng=max(ages)-min(ages)\n",
    "print(\"range of the ages:\", rng)\n"
   ]
  },
  {
   "cell_type": "code",
   "execution_count": 9,
   "id": "75db5a27",
   "metadata": {},
   "outputs": [
    {
     "name": "stdout",
     "output_type": "stream",
     "text": [
      "dog dictionary: {'name': 'charlie', 'clolor': 'White', 'breed': 'Bulldog', 'legs': '4', 'age': '3'}\n",
      "student dictionary: {'first_name': 'Ramya', 'last_name': 'Allola', 'gender': 'Female', 'age': '25', 'marital_status': 'single', 'skills': ['python', 'java', 'c'], 'country': 'India', 'city': 'Hyderabad', 'Address': '4/37'}\n",
      "length of the student dictionary: 9\n",
      "student skills: ['python', 'java', 'c']\n",
      "skills datatype: <class 'list'>\n",
      "new skill added: {'first_name': 'Ramya', 'last_name': 'Allola', 'gender': 'Female', 'age': '25', 'marital_status': 'single', 'skills': ['python', 'java', 'c', 'selenium'], 'country': 'India', 'city': 'Hyderabad', 'Address': '4/37'}\n",
      "Dog keys: dict_keys(['name', 'clolor', 'breed', 'legs', 'age'])\n",
      "Dog values: dict_values(['charlie', 'White', 'Bulldog', '4', '3'])\n",
      "student keys: dict_keys(['first_name', 'last_name', 'gender', 'age', 'marital_status', 'skills', 'country', 'city', 'Address'])\n",
      "student values: dict_values(['Ramya', 'Allola', 'Female', '25', 'single', ['python', 'java', 'c', 'selenium'], 'India', 'Hyderabad', '4/37'])\n"
     ]
    }
   ],
   "source": [
    "dog={}\n",
    "#dog dictionary\n",
    "dog={'name':'charlie','clolor':'White','breed':'Bulldog','legs':'4','age':'3'}\n",
    "print(\"dog dictionary:\", dog)\n",
    "#student dictionary\n",
    "student={'first_name':'Ramya','last_name':'Allola','gender':'Female','age':'25','marital_status':'single',\n",
    "         'skills':['python','java','c'],'country':'India','city':'Hyderabad','Address':'4/37'}\n",
    "print(\"student dictionary:\", student)\n",
    "#length of the student dictionary\n",
    "print(\"length of the student dictionary:\",len(student))\n",
    "#get the value of skills \n",
    "print(\"student skills:\", student['skills'])\n",
    "#verify the data type of skills\n",
    "print(\"skills datatype:\", type(student['skills']))\n",
    "#add one or two skills\n",
    "student['skills'].append('selenium')\n",
    "print(\"new skill added:\", student)\n",
    "#get dog and student key and values\n",
    "print(\"Dog keys:\",dog.keys())\n",
    "print(\"Dog values:\",dog.values())\n",
    "print(\"student keys:\", student.keys())\n",
    "print(\"student values:\",student.values())"
   ]
  },
  {
   "cell_type": "code",
   "execution_count": 10,
   "id": "13ffab0d",
   "metadata": {},
   "outputs": [
    {
     "name": "stdout",
     "output_type": "stream",
     "text": [
      "siblings are: ('Ramya', 'Ravali', 'Amulya', 'sai', 'sarvesh', 'bharath')\n",
      "number of siblings are: 6\n",
      "family members are: ('Ramya', 'Ravali', 'Amulya', 'sai', 'sarvesh', 'bharath', 'Ramreddy', 'Pushpa')\n"
     ]
    }
   ],
   "source": [
    "sisters=(\"Ramya\",\"Ravali\",\"Amulya\")#sisters\n",
    "brothers=(\"sai\",\"sarvesh\",\"bharath\")#brothers\n",
    "#siblings\n",
    "siblings=sisters+brothers\n",
    "print(\"siblings are:\",siblings)\n",
    "print(\"number of siblings are:\",len(siblings))\n",
    "#Modify siblings tuple and add name of father and mother and assign it to family_members\n",
    "family_members=siblings+(\"Ramreddy\",\"Pushpa\")\n",
    "print(\"family members are:\", family_members)"
   ]
  },
  {
   "cell_type": "code",
   "execution_count": 15,
   "id": "9e2f1cb1",
   "metadata": {},
   "outputs": [
    {
     "name": "stdout",
     "output_type": "stream",
     "text": [
      "length of it_companies: 7\n",
      "After adding one company: {'Apple', 'Twitter', 'Google', 'Facebook', 'Oracle', 'Microsoft', 'Amazon', 'IBM'}\n",
      "After adding multiple companies: {'Google', 'Facebook', 'Oracle', 'Microsoft', 'Infosys', 'IBM', 'Apple', 'cognizant', 'CGS', 'Twitter', 'Amazon'}\n",
      "After removing one company: {'Google', 'Facebook', 'Oracle', 'Microsoft', 'Infosys', 'IBM', 'Apple', 'cognizant', 'CGS', 'Twitter'}\n",
      "After discarding company: {'Google', 'Facebook', 'Oracle', 'Microsoft', 'Infosys', 'IBM', 'Apple', 'cognizant', 'CGS', 'Twitter'}\n"
     ]
    }
   ],
   "source": [
    "it_companies = {'Facebook', 'Google', 'Microsoft', 'Apple', 'IBM', 'Oracle', 'Amazon'} \n",
    "#length of it companies\n",
    "print(\"length of it_companies:\",len(it_companies))\n",
    "#after adding one company\n",
    "it_companies.add(\"Twitter\")\n",
    "print(\"After adding one company:\", it_companies)\n",
    "#after adding multiple companies\n",
    "mul_companies={\"Infosys\",\"cognizant\",\"CGS\"}\n",
    "it_companies.update(mul_companies)\n",
    "print(\"After adding multiple companies:\",it_companies)\n",
    "#remove one company\n",
    "it_companies.remove(\"Amazon\")\n",
    "print(\"After removing one company:\", it_companies)\n",
    "it_companies.discard(\"Amazon\")\n",
    "print(\"After discarding company:\", it_companies)\n",
    "#it_companies.clear()\n",
    "#print(it_companies)\n",
    "#del it_companies\n",
    "#print(it_companies)"
   ]
  },
  {
   "cell_type": "code",
   "execution_count": 19,
   "id": "d187d108",
   "metadata": {},
   "outputs": [
    {
     "name": "stdout",
     "output_type": "stream",
     "text": [
      "Join A and B; {19, 20, 22, 24, 25, 26, 27, 28}\n",
      "Intersection of A and B: {19, 20, 22, 24, 25, 26}\n",
      "A subset of B: True\n",
      "A and B are disjoint sets: False\n",
      "Join A with B: {19, 20, 22, 24, 25, 26, 27, 28}\n",
      "Join B with A: {19, 20, 22, 24, 25, 26, 27, 28}\n",
      "Symmetric diff: {27, 28}\n",
      "Converting list to Set: {19, 22, 24, 25, 26}\n",
      "Length of list: 8\n",
      "Length of set: 5\n",
      "comparing lenths of list and set: 3\n"
     ]
    }
   ],
   "source": [
    "A = {19, 22, 24, 20, 25, 26}\n",
    "B = {19, 22, 20, 25, 26, 24, 28, 27}\n",
    "#union of A and B\n",
    "print(\"Join A and B;\", A.union(B))\n",
    "#intersection of A and B\n",
    "print(\"Intersection of A and B:\",A.intersection(B))\n",
    "print(\"A subset of B:\", A.issubset(B))\n",
    "print(\"A and B are disjoint sets:\", A.isdisjoint(B))\n",
    "print(\"Join A with B:\", A.union(B))\n",
    "print(\"Join B with A:\", B.union(A))\n",
    "print(\"Symmetric diff:\", A.symmetric_difference(B))\n",
    "del A\n",
    "del B\n",
    "age = [22, 19, 24, 25, 26, 24, 25, 24]\n",
    "s=set(age)\n",
    "print(\"Converting list to Set:\", s)\n",
    "print(\"Length of list:\",len(age))\n",
    "print(\"Length of set:\", len(s))\n",
    "print(\"comparing lenths of list and set:\",len(age)-len(s))"
   ]
  },
  {
   "cell_type": "code",
   "execution_count": 24,
   "id": "d2260d20",
   "metadata": {},
   "outputs": [
    {
     "name": "stdout",
     "output_type": "stream",
     "text": [
      "Area of circle: 2826.0\n",
      "circumference of circle: 188.4\n",
      "enter the radius:5\n",
      "area= 78.5\n"
     ]
    }
   ],
   "source": [
    "radius=30\n",
    "area_of_circle=3.14*radius**2\n",
    "print(\"Area of circle:\", area_of_circle)\n",
    "circum_of_circle=2*3.14*radius\n",
    "print(\"circumference of circle:\", circum_of_circle)\n",
    "radius=int(input(\"enter the radius:\"))\n",
    "print(\"area=\",3.14*radius**2)"
   ]
  },
  {
   "cell_type": "code",
   "execution_count": 26,
   "id": "f47c45fe",
   "metadata": {},
   "outputs": [
    {
     "name": "stdout",
     "output_type": "stream",
     "text": [
      "{'love', 'people', 'teacher', 'to', 'teach', 'am', 'inspire', 'a', 'I', 'and'}\n",
      "Length: 10\n"
     ]
    }
   ],
   "source": [
    "s=\"I am a teacher and I love to inspire and teach people\"\n",
    "#Use the split methods to seperate the words\n",
    "spt=set(s.split())\n",
    "print(spt)\n",
    "print(\"Length:\",len(spt))"
   ]
  },
  {
   "cell_type": "code",
   "execution_count": 29,
   "id": "f6b313fb",
   "metadata": {},
   "outputs": [
    {
     "name": "stdout",
     "output_type": "stream",
     "text": [
      "Name\t Age\tCountry\tCity\t\n",
      "Asabeneh 250\tFinland\tHelsinki\n"
     ]
    }
   ],
   "source": [
    "print(\"Name\\t Age\\tCountry\\tCity\\t\\nAsabeneh 250\\tFinland\\tHelsinki\")"
   ]
  },
  {
   "cell_type": "code",
   "execution_count": 30,
   "id": "a4629456",
   "metadata": {},
   "outputs": [
    {
     "name": "stdout",
     "output_type": "stream",
     "text": [
      "The area of circle with radius 10 is 314.0 meters square.\n"
     ]
    }
   ],
   "source": [
    "radius = 10\n",
    "area = 3.14* radius**2\n",
    "print(\"The area of circle with radius {} is {} meters square.\".format(str(radius),str(area)))"
   ]
  },
  {
   "cell_type": "code",
   "execution_count": 33,
   "id": "eca154c1",
   "metadata": {},
   "outputs": [
    {
     "name": "stdout",
     "output_type": "stream",
     "text": [
      "enter no. of students:5\n",
      "enter the weights in lbs: 100 120 140 160 180\n",
      "weight in kgs is: [45.36, 54.43, 63.5, 72.57, 81.65]\n"
     ]
    }
   ],
   "source": [
    "N=int(input(\"enter no. of students:\"))\n",
    "L=list(map(int,input(\"enter the weights in lbs: \").strip().split()))[:N]\n",
    "K=[]\n",
    "for i in L:\n",
    "    kg=i*0.45359237\n",
    "    K.append(round(kg,2))\n",
    "print(\"weight in kgs is:\",K)"
   ]
  },
  {
   "cell_type": "code",
   "execution_count": null,
   "id": "6c247267",
   "metadata": {},
   "outputs": [],
   "source": []
  }
 ],
 "metadata": {
  "kernelspec": {
   "display_name": "Python 3 (ipykernel)",
   "language": "python",
   "name": "python3"
  },
  "language_info": {
   "codemirror_mode": {
    "name": "ipython",
    "version": 3
   },
   "file_extension": ".py",
   "mimetype": "text/x-python",
   "name": "python",
   "nbconvert_exporter": "python",
   "pygments_lexer": "ipython3",
   "version": "3.9.13"
  }
 },
 "nbformat": 4,
 "nbformat_minor": 5
}
